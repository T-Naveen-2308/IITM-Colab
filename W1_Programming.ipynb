{
  "nbformat": 4,
  "nbformat_minor": 0,
  "metadata": {
    "colab": {
      "provenance": [],
      "include_colab_link": true
    },
    "kernelspec": {
      "name": "python3",
      "display_name": "Python 3"
    },
    "language_info": {
      "name": "python"
    },
    "gpuClass": "standard"
  },
  "cells": [
    {
      "cell_type": "markdown",
      "metadata": {
        "id": "view-in-github",
        "colab_type": "text"
      },
      "source": [
        "<a href=\"https://colab.research.google.com/github/T-Naveen-2308/IITM-MLT-Assignments/blob/main/W1_Programming.ipynb\" target=\"_parent\"><img src=\"https://colab.research.google.com/assets/colab-badge.svg\" alt=\"Open In Colab\"/></a>"
      ]
    },
    {
      "cell_type": "markdown",
      "source": [
        "## Dataset\n",
        "\n",
        "We will be working with a subset of the [MNIST dataset](https://en.wikipedia.org/wiki/MNIST_database). Run the cell given below to generate the data-matrix $\\mathbf{X}$, which is of shape $(n, d)$, where $n$ denotes the number of samples and $d$ denotes the number of features. You will be using this dataset for the rest of the assignment. Do not edit this cell."
      ],
      "metadata": {
        "id": "I3DzbeU33QxN"
      }
    },
    {
      "cell_type": "code",
      "source": [
        "import numpy as np\n",
        "from keras.datasets import mnist\n",
        "(X_train, y_train), (X_test, y_test) = mnist.load_data()\n",
        "X = X_train[y_train == 2][: 100].reshape(-1, 28 * 28)\n",
        "test_image = X_test[y_test == 2][0].reshape(28 * 28)"
      ],
      "metadata": {
        "id": "uOBXmnyg3ZFH"
      },
      "execution_count": null,
      "outputs": []
    },
    {
      "cell_type": "markdown",
      "source": [
        "## Problem-1\n",
        "\n",
        "How many samples does the dataset have?"
      ],
      "metadata": {
        "id": "5RyvzK8z4o47"
      }
    },
    {
      "cell_type": "code",
      "source": [
        "# Enter your solution here\n",
        "print(X.shape[0])"
      ],
      "metadata": {
        "id": "rFXCXoje52x-",
        "colab": {
          "base_uri": "https://localhost:8080/"
        },
        "outputId": "86fe925a-501c-4dcc-8a88-7aaa8663da5d"
      },
      "execution_count": null,
      "outputs": [
        {
          "output_type": "stream",
          "name": "stdout",
          "text": [
            "100\n"
          ]
        }
      ]
    },
    {
      "cell_type": "markdown",
      "source": [
        "## Problem-2\n",
        "\n",
        "How many features does the dataset have?"
      ],
      "metadata": {
        "id": "UrmLi2sK4ynX"
      }
    },
    {
      "cell_type": "code",
      "source": [
        "# Enter your solution here\n",
        "print(X.shape[1])"
      ],
      "metadata": {
        "id": "WQ75O4D141R0",
        "colab": {
          "base_uri": "https://localhost:8080/"
        },
        "outputId": "d3bd18a0-9ed2-4988-e85c-5d1db12f412b"
      },
      "execution_count": null,
      "outputs": [
        {
          "output_type": "stream",
          "name": "stdout",
          "text": [
            "784\n"
          ]
        }
      ]
    },
    {
      "cell_type": "markdown",
      "source": [
        "## Problem-3\n",
        "\n",
        "Each sample corresponds to an image of dimension $28 \\times 28$. Visualize one of these images using the `matplotlib` library.\n",
        "\n",
        "- You need to know how to reshape a feature vector. Refer to week-0 content for the same.\n",
        "- You can refer to the following [document](https://matplotlib.org/stable/tutorials/introductory/images.html#sphx-glr-tutorials-introductory-images-py) for plotting NumPy arrays as images using `matplotlib`."
      ],
      "metadata": {
        "id": "BPUFxtI55G2h"
      }
    },
    {
      "cell_type": "code",
      "source": [
        "# Enter your solution here\n",
        "import matplotlib.pyplot as plt\n",
        "\n",
        "plt.imshow(X[0].reshape(28, 28))"
      ],
      "metadata": {
        "id": "ExvRNXPZ6246",
        "colab": {
          "base_uri": "https://localhost:8080/",
          "height": 447
        },
        "outputId": "5ee51193-f207-425d-8e8f-2285b50d4bfb"
      },
      "execution_count": null,
      "outputs": [
        {
          "output_type": "execute_result",
          "data": {
            "text/plain": [
              "<matplotlib.image.AxesImage at 0x7a28ee9ac810>"
            ]
          },
          "metadata": {},
          "execution_count": 54
        },
        {
          "output_type": "display_data",
          "data": {
            "text/plain": [
              "<Figure size 640x480 with 1 Axes>"
            ],
            "image/png": "[encoded data removed]"
          },
          "metadata": {}
        }
      ]
    },
    {
      "cell_type": "markdown",
      "source": [
        "## Problem-4\n",
        "\n",
        "Center the the dataset $\\mathbf{X}$ around its mean. Call this centered dataset $\\mathbf{X}^{\\prime}$.\n",
        "\n",
        "<u>Conversion</u>\n",
        "\n",
        "Enter the following quantity as your answer correct to two decimal places:\n",
        "\n",
        "$$\n",
        "\\cfrac{1}{n \\cdot d} \\sqrt{\\sum \\limits_{i = 1}^{n} \\sum \\limits_{j = 1}^{d} (X_{ij}^{\\prime})^2}\n",
        "$$"
      ],
      "metadata": {
        "id": "8e2xflo8FF8K"
      }
    },
    {
      "cell_type": "code",
      "source": [
        "# Enter your solution here\n",
        "\n",
        "X1 = X - X.mean(axis=0, keepdims=True)\n",
        "\n",
        "sumi = 0\n",
        "for row in X1:\n",
        "  for val in row:\n",
        "    sumi += val*val\n",
        "\n",
        "from math import sqrt\n",
        "\n",
        "print(sqrt(sumi)/(100*784))"
      ],
      "metadata": {
        "id": "9uNDPtBjH5Df",
        "colab": {
          "base_uri": "https://localhost:8080/"
        },
        "outputId": "d5c66f2c-28fe-433f-dae0-24bdb4c5b2e1"
      },
      "execution_count": null,
      "outputs": [
        {
          "output_type": "stream",
          "name": "stdout",
          "text": [
            "0.23242174456564954\n"
          ]
        }
      ]
    },
    {
      "cell_type": "markdown",
      "source": [
        "## Problem-5\n",
        "\n",
        "Compute the covariance matrix $\\mathbf{C}$ of the centered dataset.\n",
        "\n",
        "<u>Conversion</u>\n",
        "\n",
        "Enter the following quantity as your answer correct to two decimal places:\n",
        "\n",
        "$$\n",
        "\\cfrac{1}{d^2} \\sqrt{\\sum \\limits_{i = 1}^{d} \\sum \\limits_{j = 1}^{d} C_{ij}^2}\n",
        "$$"
      ],
      "metadata": {
        "id": "8UPKuD8uJCnE"
      }
    },
    {
      "cell_type": "code",
      "source": [
        "# Enter your solution here\n",
        "\n",
        "C = 1/100 * (X1 @ X1.T)\n",
        "\n",
        "sumi = 0\n",
        "for row in C:\n",
        "  for val in row:\n",
        "    sumi += val*val\n",
        "\n",
        "from math import sqrt\n",
        "\n",
        "print(sqrt(sumi)/(784*784))"
      ],
      "metadata": {
        "id": "ZWT1bzBDlk2m",
        "colab": {
          "base_uri": "https://localhost:8080/"
        },
        "outputId": "1b04b69e-f149-41e6-ef7e-70cd9f7c0387"
      },
      "execution_count": null,
      "outputs": [
        {
          "output_type": "stream",
          "name": "stdout",
          "text": [
            "1.364806100923225\n"
          ]
        }
      ]
    },
    {
      "cell_type": "markdown",
      "source": [
        "## Problem-6\n",
        "\n",
        "Compute the first and second principal components of the dataset, $\\mathbf{w}_1$ and $\\mathbf{w}_2$.\n",
        "\n",
        "<u>Conversion</u>\n",
        "\n",
        "Compute:\n",
        "$$\n",
        "\\mathbf{w} = \\mathbf{w}_1 + \\mathbf{w}_2\n",
        "$$\n",
        "\n",
        "Enter the following quantity as your answer correct to two decimal places:\n",
        "\n",
        "$$\n",
        "\\left| \\sum \\limits_{i = 1}^{d} w_i \\right|\n",
        "$$"
      ],
      "metadata": {
        "id": "FfJK8OiMr2mh"
      }
    },
    {
      "cell_type": "code",
      "source": [
        "# Enter your solution here\n",
        "\n",
        "eigenvalues, eigenvectors = np.linalg.eig(C)\n",
        "\n",
        "w = eigenvectors[0]+eigenvectors[1]\n",
        "\n",
        "sumi = 0\n",
        "for i in w:\n",
        "  sumi += i\n",
        "print(abs(sumi))"
      ],
      "metadata": {
        "id": "KgJ1FCa1tvZR",
        "colab": {
          "base_uri": "https://localhost:8080/"
        },
        "outputId": "a8d5724d-0af0-439c-cf25-b115625815e7"
      },
      "execution_count": null,
      "outputs": [
        {
          "output_type": "stream",
          "name": "stdout",
          "text": [
            "[6.24013678e+05 2.85944623e+05 2.37580596e+05 2.10088069e+05\n",
            " 1.67865492e+05 1.41821282e+05 1.34313485e+05 9.62536000e+04\n",
            " 9.44557612e+04 8.10246647e+04 7.50442488e+04 6.72112886e+04\n",
            " 5.91732310e+04 5.65652380e+04 5.19588316e+04 4.75497624e+04\n",
            " 4.56765117e+04 4.21282119e+04 3.96933876e+04 3.69378230e+04\n",
            " 3.54552619e+04 3.23419908e+04 2.96709675e+04 2.98982062e+04\n",
            " 2.72737971e+04 2.61423208e+04 2.54312091e+04 2.38093683e+04\n",
            " 2.21228850e+04 2.10708881e+04 1.93831895e+04 1.88052470e+04\n",
            " 1.83322931e+04 1.73007062e+04 1.62283876e+04 1.53230686e+04\n",
            " 1.48753435e+04 1.42766028e+04 1.34538456e+04 1.30333819e+04\n",
            " 1.23769062e+04 1.20899698e+04 1.17650389e+04 1.10608755e+04\n",
            " 1.03651870e+04 1.01451186e+04 9.35406400e+03 3.79782977e-11\n",
            " 9.11256871e+03 8.84279295e+03 8.62352637e+03 8.32117649e+03\n",
            " 7.93326203e+03 7.51345967e+03 7.37233474e+03 7.19514340e+03\n",
            " 6.91561839e+03 6.76930947e+03 6.20878071e+03 6.01684783e+03\n",
            " 5.77218455e+03 5.74705091e+03 5.49691926e+03 5.29815443e+03\n",
            " 1.06998611e+03 5.03127878e+03 1.27201701e+03 4.83480013e+03\n",
            " 4.67866661e+03 1.40131716e+03 1.47847083e+03 1.52849716e+03\n",
            " 4.38078969e+03 4.11125038e+03 4.02814458e+03 1.65209309e+03\n",
            " 3.84465443e+03 4.30778712e+03 3.69849729e+03 3.43814315e+03\n",
            " 1.73301684e+03 1.75713099e+03 1.83348441e+03 1.89930112e+03\n",
            " 3.33636217e+03 2.59923725e+03 2.43538763e+03 3.06416497e+03\n",
            " 2.71471336e+03 2.28751055e+03 2.01222470e+03 2.09572120e+03\n",
            " 2.15456129e+03 2.02195724e+03 2.85679729e+03 2.91590763e+03\n",
            " 3.19563109e+03 2.34690274e+03 2.96196567e+03 3.56015150e+03]\n",
            "0.8941076804787814\n"
          ]
        }
      ]
    },
    {
      "cell_type": "code",
      "source": [
        "from sklearn.decomposition import PCA\n",
        "\n",
        "pca = PCA()\n",
        "\n",
        "# Fit PCA to the data (it will automatically center the data)\n",
        "pca.fit(X)\n",
        "\n",
        "# Get the principal components\n",
        "eigenvectors = pca.components_\n",
        "\n",
        "# Get the explained variance (eigenvalues)\n",
        "eigenvalues = pca.explained_variance_\n",
        "\n",
        "# Print the eigenvalues (variance explained by each component)\n",
        "print(\"Eigenvalues:\", eigenvalues)\n",
        "\n",
        "# Print the eigenvectors (principal components)\n",
        "print(\"Eigenvectors (Principal Components):\", eigenvectors)"
      ],
      "metadata": {
        "colab": {
          "base_uri": "https://localhost:8080/"
        },
        "id": "OVpetf73Nicj",
        "outputId": "2468e916-4015-4d5c-b2bb-7088026d8c2a"
      },
      "execution_count": null,
      "outputs": [
        {
          "output_type": "stream",
          "name": "stdout",
          "text": [
            "Eigenvalues: [6.30316846e+05 2.88832953e+05 2.39980400e+05 2.12210170e+05\n",
            " 1.69561104e+05 1.43253820e+05 1.35670187e+05 9.72258586e+04\n",
            " 9.54098598e+04 8.18430957e+04 7.58022715e+04 6.78901905e+04\n",
            " 5.97709404e+04 5.71366040e+04 5.24836683e+04 4.80300630e+04\n",
            " 4.61378906e+04 4.25537494e+04 4.00943309e+04 3.73109324e+04\n",
            " 3.58133959e+04 3.26686775e+04 3.02002082e+04 2.99706742e+04\n",
            " 2.75492900e+04 2.64063846e+04 2.56880900e+04 2.40498670e+04\n",
            " 2.23463485e+04 2.12837253e+04 1.95789793e+04 1.89951990e+04\n",
            " 1.85174677e+04 1.74754608e+04 1.63923107e+04 1.54778471e+04\n",
            " 1.50255995e+04 1.44208109e+04 1.35897430e+04 1.31650322e+04\n",
            " 1.25019254e+04 1.22120907e+04 1.18838777e+04 1.11726016e+04\n",
            " 1.04698859e+04 1.02475946e+04 9.44854950e+03 9.20461486e+03\n",
            " 8.93211409e+03 8.71063270e+03 8.40522878e+03 8.01339599e+03\n",
            " 7.58935321e+03 7.44680277e+03 7.26782162e+03 6.98547312e+03\n",
            " 6.83768633e+03 6.27149567e+03 6.07762407e+03 5.83048945e+03\n",
            " 5.80510193e+03 5.55244370e+03 5.35167114e+03 5.08209978e+03\n",
            " 4.88363649e+03 4.72592587e+03 4.42504009e+03 4.35130012e+03\n",
            " 4.15277817e+03 4.06883291e+03 3.88348932e+03 3.73585585e+03\n",
            " 3.59611263e+03 3.47287187e+03 3.37006280e+03 3.22791019e+03\n",
            " 3.09511613e+03 2.99188452e+03 2.94536125e+03 2.88565383e+03\n",
            " 2.74213470e+03 2.62549217e+03 2.45998751e+03 2.37060883e+03\n",
            " 2.31061671e+03 2.17632454e+03 2.11689010e+03 2.04238105e+03\n",
            " 2.03255020e+03 1.91848598e+03 1.85200446e+03 1.77487978e+03\n",
            " 1.75052207e+03 1.66878090e+03 1.54393653e+03 1.49340488e+03\n",
            " 1.41547188e+03 1.28486567e+03 1.08079405e+03 1.24308079e-25]\n",
            "Eigenvectors (Principal Components): [[ 4.06507807e-17 -2.89027947e-18 -7.62951889e-17 ... -0.00000000e+00\n",
            "  -0.00000000e+00 -0.00000000e+00]\n",
            " [-1.10800286e-16  6.60912030e-18  1.11594757e-16 ... -0.00000000e+00\n",
            "  -0.00000000e+00 -0.00000000e+00]\n",
            " [ 8.26840555e-17  7.09344437e-17  5.49486658e-17 ... -0.00000000e+00\n",
            "  -0.00000000e+00 -0.00000000e+00]\n",
            " ...\n",
            " [ 3.34495904e-16  1.57320633e-16  3.62371848e-16 ... -0.00000000e+00\n",
            "  -0.00000000e+00 -0.00000000e+00]\n",
            " [ 6.54094208e-16 -2.17651414e-16 -2.71593165e-16 ...  0.00000000e+00\n",
            "   0.00000000e+00  0.00000000e+00]\n",
            " [ 3.30488190e-01 -1.48221518e-02  2.42965092e-01 ... -0.00000000e+00\n",
            "  -0.00000000e+00 -0.00000000e+00]]\n",
            "9.25124458603393\n"
          ]
        }
      ]
    },
    {
      "cell_type": "markdown",
      "source": [
        "## Problem-7\n",
        "\n",
        "Visualize the first principal component as an image."
      ],
      "metadata": {
        "id": "9CBt_pmj-5pl"
      }
    },
    {
      "cell_type": "code",
      "source": [
        "# Enter your solution here\n",
        "\n"
      ],
      "metadata": {
        "id": "KXiJLyT7_N29"
      },
      "execution_count": null,
      "outputs": []
    },
    {
      "cell_type": "markdown",
      "source": [
        "## Problem-8\n",
        "\n",
        "Find the smallest value of $k$ for which the first $k$ principal components capture at least $95\\%$ of the variance in the data."
      ],
      "metadata": {
        "id": "o37ie_mqxqhy"
      }
    },
    {
      "cell_type": "code",
      "source": [
        "# Enter your solution here\n",
        "\n"
      ],
      "metadata": {
        "id": "_JiPpEwCyvQK"
      },
      "execution_count": null,
      "outputs": []
    },
    {
      "cell_type": "markdown",
      "source": [
        "## Problem-9\n",
        "\n",
        "Given a `test_image`, visualize the proxies  by reconstructing it using the top $k$ principal components. Consider four values of $k$; values of $k$ for which the top-$k$ principal components explain:\n",
        "\n",
        "- 20% of the variance\n",
        "- 50% of the variance\n",
        "- 80% of the variance\n",
        "- 95% of the variance\n",
        "\n"
      ],
      "metadata": {
        "id": "5raTmu_s0Gpq"
      }
    },
    {
      "cell_type": "code",
      "source": [
        "# Enter your solution here"
      ],
      "metadata": {
        "id": "yrjf1Er24vLo"
      },
      "execution_count": null,
      "outputs": []
    }
  ]
}